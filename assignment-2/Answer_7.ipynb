{
 "cells": [
  {
   "cell_type": "code",
   "execution_count": 1,
   "id": "4debd122",
   "metadata": {},
   "outputs": [
    {
     "name": "stdout",
     "output_type": "stream",
     "text": [
      "Requirement already satisfied: selenium in c:\\users\\dell\\anaconda3\\lib\\site-packages (4.8.3)\n",
      "Requirement already satisfied: urllib3[socks]~=1.26 in c:\\users\\dell\\anaconda3\\lib\\site-packages (from selenium) (1.26.14)\n",
      "Requirement already satisfied: trio-websocket~=0.9 in c:\\users\\dell\\anaconda3\\lib\\site-packages (from selenium) (0.10.2)\n",
      "Requirement already satisfied: certifi>=2021.10.8 in c:\\users\\dell\\anaconda3\\lib\\site-packages (from selenium) (2022.12.7)\n",
      "Requirement already satisfied: trio~=0.17 in c:\\users\\dell\\anaconda3\\lib\\site-packages (from selenium) (0.22.0)\n",
      "Requirement already satisfied: sniffio in c:\\users\\dell\\anaconda3\\lib\\site-packages (from trio~=0.17->selenium) (1.2.0)\n",
      "Requirement already satisfied: exceptiongroup>=1.0.0rc9 in c:\\users\\dell\\anaconda3\\lib\\site-packages (from trio~=0.17->selenium) (1.1.1)\n",
      "Requirement already satisfied: async-generator>=1.9 in c:\\users\\dell\\anaconda3\\lib\\site-packages (from trio~=0.17->selenium) (1.10)\n",
      "Requirement already satisfied: outcome in c:\\users\\dell\\anaconda3\\lib\\site-packages (from trio~=0.17->selenium) (1.2.0)\n",
      "Requirement already satisfied: idna in c:\\users\\dell\\anaconda3\\lib\\site-packages (from trio~=0.17->selenium) (3.4)\n",
      "Requirement already satisfied: cffi>=1.14 in c:\\users\\dell\\anaconda3\\lib\\site-packages (from trio~=0.17->selenium) (1.15.1)\n",
      "Requirement already satisfied: sortedcontainers in c:\\users\\dell\\anaconda3\\lib\\site-packages (from trio~=0.17->selenium) (2.4.0)\n",
      "Requirement already satisfied: attrs>=19.2.0 in c:\\users\\dell\\anaconda3\\lib\\site-packages (from trio~=0.17->selenium) (22.1.0)\n",
      "Requirement already satisfied: wsproto>=0.14 in c:\\users\\dell\\anaconda3\\lib\\site-packages (from trio-websocket~=0.9->selenium) (1.2.0)\n",
      "Requirement already satisfied: PySocks!=1.5.7,<2.0,>=1.5.6 in c:\\users\\dell\\anaconda3\\lib\\site-packages (from urllib3[socks]~=1.26->selenium) (1.7.1)\n",
      "Requirement already satisfied: pycparser in c:\\users\\dell\\anaconda3\\lib\\site-packages (from cffi>=1.14->trio~=0.17->selenium) (2.21)\n",
      "Requirement already satisfied: h11<1,>=0.9.0 in c:\\users\\dell\\anaconda3\\lib\\site-packages (from wsproto>=0.14->trio-websocket~=0.9->selenium) (0.14.0)\n"
     ]
    }
   ],
   "source": [
    "!pip install selenium"
   ]
  },
  {
   "cell_type": "code",
   "execution_count": 77,
   "id": "aad6ff7c",
   "metadata": {},
   "outputs": [],
   "source": [
    "import selenium\n",
    "import pandas as pd\n",
    "from selenium import webdriver\n",
    "import warnings\n",
    "warnings.filterwarnings('ignore')\n",
    "from selenium.common.exceptions import StaleElementReferenceException, NoSuchElementException\n",
    "from selenium.webdriver.common.by import By\n",
    "import time"
   ]
  },
  {
   "cell_type": "code",
   "execution_count": 78,
   "id": "7874aaf1",
   "metadata": {},
   "outputs": [],
   "source": [
    "driver=webdriver.Chrome(r\"C:\\Users\\DELL\\Desktop\\chrome\\chromedriver.exe\")"
   ]
  },
  {
   "cell_type": "code",
   "execution_count": 79,
   "id": "804ed2ee",
   "metadata": {},
   "outputs": [],
   "source": [
    "driver.get(\"https://www.amazon.in/\")"
   ]
  },
  {
   "cell_type": "code",
   "execution_count": 80,
   "id": "5775acd1",
   "metadata": {},
   "outputs": [],
   "source": [
    "product=driver.find_element(By.CLASS_NAME,\"nav-search-field \")"
   ]
  },
  {
   "cell_type": "code",
   "execution_count": 81,
   "id": "9a897dbb",
   "metadata": {},
   "outputs": [],
   "source": [
    "amazon=driver.find_element(By.XPATH,\"/html/body/div[1]/header/div/div[1]/div[2]/div/form/div[2]/div[1]/input\")\n",
    "amazon.send_keys('Laptop')"
   ]
  },
  {
   "cell_type": "code",
   "execution_count": 82,
   "id": "9d17fb12",
   "metadata": {},
   "outputs": [],
   "source": [
    "search=driver.find_element(By.CLASS_NAME,\"nav-right\")\n",
    "search.click()"
   ]
  },
  {
   "cell_type": "code",
   "execution_count": 83,
   "id": "e476bdbc",
   "metadata": {},
   "outputs": [],
   "source": [
    "cpu=driver.find_element(By.XPATH,\"/html/body/div[1]/div[2]/div[1]/div[2]/div/div[3]/span/div[1]/div/div/div[5]/ul[6]/li[11]/span/a/span\")\n",
    "cpu.click()"
   ]
  },
  {
   "cell_type": "code",
   "execution_count": 84,
   "id": "037cefd9",
   "metadata": {},
   "outputs": [],
   "source": [
    "laptop_title=[]\n",
    "laptop_rating=[]\n",
    "laptop_price=[]"
   ]
  },
  {
   "cell_type": "code",
   "execution_count": 85,
   "id": "e4065456",
   "metadata": {},
   "outputs": [],
   "source": [
    " # scraping laptop title from the given page\n",
    "title_tags=driver.find_elements(By.XPATH,'//span[@class=\"a-size-medium a-color-base a-text-normal\"]')\n",
    "for i in title_tags[0:10]:\n",
    "    title=i.text\n",
    "    laptop_title.append(title)\n",
    "\n",
    "# scraping rating from the given page\n",
    "rating_tags=driver.find_elements(By.XPATH,'//span[@class=\"a-size-base\"]')\n",
    "for i in rating_tags[0:10]:\n",
    "    rating=i.text\n",
    "    laptop_rating.append(rating)\n",
    "    \n",
    "# scraping price of the laptop from the given page\n",
    "price_tags=driver.find_elements(By.XPATH,'//span[@class=\"a-price-whole\"]')\n",
    "for i in price_tags[0:10]:\n",
    "    price=i.text\n",
    "    laptop_price.append(price)"
   ]
  },
  {
   "cell_type": "code",
   "execution_count": 86,
   "id": "b6434802",
   "metadata": {},
   "outputs": [
    {
     "name": "stdout",
     "output_type": "stream",
     "text": [
      "10 10 10\n"
     ]
    }
   ],
   "source": [
    "print(len(laptop_title),len(laptop_rating),len(laptop_price))"
   ]
  },
  {
   "cell_type": "code",
   "execution_count": 87,
   "id": "bde4e35b",
   "metadata": {},
   "outputs": [
    {
     "data": {
      "text/html": [
       "<div>\n",
       "<style scoped>\n",
       "    .dataframe tbody tr th:only-of-type {\n",
       "        vertical-align: middle;\n",
       "    }\n",
       "\n",
       "    .dataframe tbody tr th {\n",
       "        vertical-align: top;\n",
       "    }\n",
       "\n",
       "    .dataframe thead th {\n",
       "        text-align: right;\n",
       "    }\n",
       "</style>\n",
       "<table border=\"1\" class=\"dataframe\">\n",
       "  <thead>\n",
       "    <tr style=\"text-align: right;\">\n",
       "      <th></th>\n",
       "      <th>Laptop Title</th>\n",
       "      <th>Laptop Rating</th>\n",
       "      <th>Laptop Price</th>\n",
       "    </tr>\n",
       "  </thead>\n",
       "  <tbody>\n",
       "    <tr>\n",
       "      <th>0</th>\n",
       "      <td>(Renewed) HP 840g3 Elitebook 14 Inch Screen La...</td>\n",
       "      <td>3.0</td>\n",
       "      <td>31,592</td>\n",
       "    </tr>\n",
       "    <tr>\n",
       "      <th>1</th>\n",
       "      <td>Lenovo IdeaPad Slim 5 Intel Core i7 12th Gen 1...</td>\n",
       "      <td>4.3</td>\n",
       "      <td>94,990</td>\n",
       "    </tr>\n",
       "    <tr>\n",
       "      <th>2</th>\n",
       "      <td>ASUS TUF Gaming F15 (2022), 15.6\"(39.62 cms) F...</td>\n",
       "      <td>4.4</td>\n",
       "      <td>92,990</td>\n",
       "    </tr>\n",
       "    <tr>\n",
       "      <th>3</th>\n",
       "      <td>ASUS TUF Dash F15, Intel Core i7-12650H 12th G...</td>\n",
       "      <td>4.0</td>\n",
       "      <td>69,990</td>\n",
       "    </tr>\n",
       "    <tr>\n",
       "      <th>4</th>\n",
       "      <td>ASUS VivoBook K15 OLED (2021), 15.6-inch FHD O...</td>\n",
       "      <td>3.6</td>\n",
       "      <td>31,490</td>\n",
       "    </tr>\n",
       "    <tr>\n",
       "      <th>5</th>\n",
       "      <td>(Renewed) HP ELITEBOOK 840 G5 (Core i7 8th GEN...</td>\n",
       "      <td>4.3</td>\n",
       "      <td>89,990</td>\n",
       "    </tr>\n",
       "    <tr>\n",
       "      <th>6</th>\n",
       "      <td>Fujitsu UH-X 11th Gen Intel Core i7 13.3\" FHD ...</td>\n",
       "      <td>4.0</td>\n",
       "      <td>81,990</td>\n",
       "    </tr>\n",
       "    <tr>\n",
       "      <th>7</th>\n",
       "      <td>ASUS Vivobook S15 OLED 2022, 15.6\" 39.62 cms F...</td>\n",
       "      <td>4.1</td>\n",
       "      <td>94,990</td>\n",
       "    </tr>\n",
       "    <tr>\n",
       "      <th>8</th>\n",
       "      <td>ASUS TUF Gaming F15 (2022), 15.6\" (39.62 cms) ...</td>\n",
       "      <td>4.3</td>\n",
       "      <td>83,990</td>\n",
       "    </tr>\n",
       "    <tr>\n",
       "      <th>9</th>\n",
       "      <td>HP Pavilion 14 12th Gen Intel Core i7 16GB SDR...</td>\n",
       "      <td>3.4</td>\n",
       "      <td>1,13,900</td>\n",
       "    </tr>\n",
       "  </tbody>\n",
       "</table>\n",
       "</div>"
      ],
      "text/plain": [
       "                                        Laptop Title Laptop Rating  \\\n",
       "0  (Renewed) HP 840g3 Elitebook 14 Inch Screen La...           3.0   \n",
       "1  Lenovo IdeaPad Slim 5 Intel Core i7 12th Gen 1...           4.3   \n",
       "2  ASUS TUF Gaming F15 (2022), 15.6\"(39.62 cms) F...           4.4   \n",
       "3  ASUS TUF Dash F15, Intel Core i7-12650H 12th G...           4.0   \n",
       "4  ASUS VivoBook K15 OLED (2021), 15.6-inch FHD O...           3.6   \n",
       "5  (Renewed) HP ELITEBOOK 840 G5 (Core i7 8th GEN...           4.3   \n",
       "6  Fujitsu UH-X 11th Gen Intel Core i7 13.3\" FHD ...           4.0   \n",
       "7  ASUS Vivobook S15 OLED 2022, 15.6\" 39.62 cms F...           4.1   \n",
       "8  ASUS TUF Gaming F15 (2022), 15.6\" (39.62 cms) ...           4.3   \n",
       "9  HP Pavilion 14 12th Gen Intel Core i7 16GB SDR...           3.4   \n",
       "\n",
       "  Laptop Price  \n",
       "0       31,592  \n",
       "1       94,990  \n",
       "2       92,990  \n",
       "3       69,990  \n",
       "4       31,490  \n",
       "5       89,990  \n",
       "6       81,990  \n",
       "7       94,990  \n",
       "8       83,990  \n",
       "9     1,13,900  "
      ]
     },
     "execution_count": 87,
     "metadata": {},
     "output_type": "execute_result"
    }
   ],
   "source": [
    "import pandas as pd\n",
    "df=pd.DataFrame({'Laptop Title':laptop_title,'Laptop Rating':laptop_rating,'Laptop Price':laptop_price})\n",
    "df"
   ]
  },
  {
   "cell_type": "code",
   "execution_count": null,
   "id": "2eb12de4",
   "metadata": {},
   "outputs": [],
   "source": []
  }
 ],
 "metadata": {
  "kernelspec": {
   "display_name": "Python 3 (ipykernel)",
   "language": "python",
   "name": "python3"
  },
  "language_info": {
   "codemirror_mode": {
    "name": "ipython",
    "version": 3
   },
   "file_extension": ".py",
   "mimetype": "text/x-python",
   "name": "python",
   "nbconvert_exporter": "python",
   "pygments_lexer": "ipython3",
   "version": "3.10.9"
  }
 },
 "nbformat": 4,
 "nbformat_minor": 5
}
