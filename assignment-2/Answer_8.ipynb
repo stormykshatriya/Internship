{
 "cells": [
  {
   "cell_type": "code",
   "execution_count": 1,
   "id": "01644c1e",
   "metadata": {},
   "outputs": [
    {
     "name": "stdout",
     "output_type": "stream",
     "text": [
      "Requirement already satisfied: selenium in c:\\users\\dell\\anaconda3\\lib\\site-packages (4.8.3)\n",
      "Requirement already satisfied: trio~=0.17 in c:\\users\\dell\\anaconda3\\lib\\site-packages (from selenium) (0.22.0)\n",
      "Requirement already satisfied: certifi>=2021.10.8 in c:\\users\\dell\\anaconda3\\lib\\site-packages (from selenium) (2022.12.7)\n",
      "Requirement already satisfied: trio-websocket~=0.9 in c:\\users\\dell\\anaconda3\\lib\\site-packages (from selenium) (0.10.2)\n",
      "Requirement already satisfied: urllib3[socks]~=1.26 in c:\\users\\dell\\anaconda3\\lib\\site-packages (from selenium) (1.26.14)\n",
      "Requirement already satisfied: async-generator>=1.9 in c:\\users\\dell\\anaconda3\\lib\\site-packages (from trio~=0.17->selenium) (1.10)\n",
      "Requirement already satisfied: outcome in c:\\users\\dell\\anaconda3\\lib\\site-packages (from trio~=0.17->selenium) (1.2.0)\n",
      "Requirement already satisfied: sniffio in c:\\users\\dell\\anaconda3\\lib\\site-packages (from trio~=0.17->selenium) (1.2.0)\n",
      "Requirement already satisfied: sortedcontainers in c:\\users\\dell\\anaconda3\\lib\\site-packages (from trio~=0.17->selenium) (2.4.0)\n",
      "Requirement already satisfied: exceptiongroup>=1.0.0rc9 in c:\\users\\dell\\anaconda3\\lib\\site-packages (from trio~=0.17->selenium) (1.1.1)\n",
      "Requirement already satisfied: idna in c:\\users\\dell\\anaconda3\\lib\\site-packages (from trio~=0.17->selenium) (3.4)\n",
      "Requirement already satisfied: attrs>=19.2.0 in c:\\users\\dell\\anaconda3\\lib\\site-packages (from trio~=0.17->selenium) (22.1.0)\n",
      "Requirement already satisfied: cffi>=1.14 in c:\\users\\dell\\anaconda3\\lib\\site-packages (from trio~=0.17->selenium) (1.15.1)\n",
      "Requirement already satisfied: wsproto>=0.14 in c:\\users\\dell\\anaconda3\\lib\\site-packages (from trio-websocket~=0.9->selenium) (1.2.0)\n",
      "Requirement already satisfied: PySocks!=1.5.7,<2.0,>=1.5.6 in c:\\users\\dell\\anaconda3\\lib\\site-packages (from urllib3[socks]~=1.26->selenium) (1.7.1)\n",
      "Requirement already satisfied: pycparser in c:\\users\\dell\\anaconda3\\lib\\site-packages (from cffi>=1.14->trio~=0.17->selenium) (2.21)\n",
      "Requirement already satisfied: h11<1,>=0.9.0 in c:\\users\\dell\\anaconda3\\lib\\site-packages (from wsproto>=0.14->trio-websocket~=0.9->selenium) (0.14.0)\n"
     ]
    }
   ],
   "source": [
    "!pip install selenium"
   ]
  },
  {
   "cell_type": "code",
   "execution_count": 18,
   "id": "6077d774",
   "metadata": {},
   "outputs": [],
   "source": [
    "import selenium\n",
    "import pandas as pd\n",
    "from selenium import webdriver\n",
    "import warnings\n",
    "warnings.filterwarnings('ignore')\n",
    "from selenium.common.exceptions import StaleElementReferenceException, NoSuchElementException\n",
    "from selenium.webdriver.common.by import By\n",
    "import time"
   ]
  },
  {
   "cell_type": "code",
   "execution_count": 19,
   "id": "7b37b0a5",
   "metadata": {},
   "outputs": [],
   "source": [
    "driver=webdriver.Chrome(r\"C:\\Users\\DELL\\Desktop\\chrome\\chromedriver.exe\")"
   ]
  },
  {
   "cell_type": "code",
   "execution_count": 20,
   "id": "adcb5d3e",
   "metadata": {},
   "outputs": [],
   "source": [
    "driver.get(\"http://www.azquotes.com/\")"
   ]
  },
  {
   "cell_type": "code",
   "execution_count": 21,
   "id": "52b0bf8b",
   "metadata": {},
   "outputs": [],
   "source": [
    "quotes=driver.find_element(By.XPATH,\"/html/body/div[1]/div[1]/div[1]/div/div[3]/ul/li[5]/a\")\n",
    "quotes.click()"
   ]
  },
  {
   "cell_type": "code",
   "execution_count": 22,
   "id": "a1bbb0f6",
   "metadata": {},
   "outputs": [],
   "source": [
    "quotes_titles=[]\n",
    "quotes_author=[]\n",
    "quotes_types=[]"
   ]
  },
  {
   "cell_type": "code",
   "execution_count": 23,
   "id": "5a24d705",
   "metadata": {},
   "outputs": [],
   "source": [
    " # scraping title name from the given page\n",
    "titles_tags=driver.find_elements(By.XPATH,'//a[@class=\"title\"]')\n",
    "for i in titles_tags[0:100]:\n",
    "    titles=i.text\n",
    "    quotes_titles.append(titles)\n",
    "\n",
    "# scraping author name from the given page\n",
    "author_tags=driver.find_elements(By.XPATH,'//div[@class=\"author\"]')\n",
    "for i in author_tags[0:100]:\n",
    "    author=i.text\n",
    "    quotes_author.append(author)\n",
    "    \n",
    "# scraping types of quotes from the given page\n",
    "types_tags=driver.find_elements(By.XPATH,'//div[@class=\"_30jeq3\"]')\n",
    "for i in types_tags[0:100]:\n",
    "    types=i.text\n",
    "    quotes_types.append(types)"
   ]
  },
  {
   "cell_type": "code",
   "execution_count": 24,
   "id": "a0dfbfbf",
   "metadata": {},
   "outputs": [],
   "source": [
    "start=0\n",
    "end=9\n",
    "for page in range(start,end):\n",
    "    titles=driver.find_elements(By.XPATH,'//a[@class=\"title\"]')\n",
    "    for i in titles:\n",
    "        quotes_titles.append(i.text)\n",
    "        \n",
    "    author=driver.find_elements(By.XPATH,'//div[@class=\"author\"]')\n",
    "    for i in author:\n",
    "        quotes_author.append(i.text)\n",
    "        \n",
    "    types=driver.find_elements(By.XPATH,'//div[@class=\"tags\"]')\n",
    "    for i in types:\n",
    "        quotes_types.append(i.text)\n",
    "        \n",
    "    next_button=driver.find_element(By.XPATH,'//li[@class=\"next\"]') #to scrap the data from the next page\n",
    "    next_button.click()\n",
    "    time.sleep(3)"
   ]
  },
  {
   "cell_type": "code",
   "execution_count": 25,
   "id": "e6aff0ea",
   "metadata": {},
   "outputs": [
    {
     "name": "stdout",
     "output_type": "stream",
     "text": [
      "1000 1000 900\n"
     ]
    }
   ],
   "source": [
    "print(len(quotes_titles),len(quotes_author),len(quotes_types))"
   ]
  },
  {
   "cell_type": "code",
   "execution_count": 41,
   "id": "927645da",
   "metadata": {},
   "outputs": [
    {
     "data": {
      "text/html": [
       "<div>\n",
       "<style scoped>\n",
       "    .dataframe tbody tr th:only-of-type {\n",
       "        vertical-align: middle;\n",
       "    }\n",
       "\n",
       "    .dataframe tbody tr th {\n",
       "        vertical-align: top;\n",
       "    }\n",
       "\n",
       "    .dataframe thead th {\n",
       "        text-align: right;\n",
       "    }\n",
       "</style>\n",
       "<table border=\"1\" class=\"dataframe\">\n",
       "  <thead>\n",
       "    <tr style=\"text-align: right;\">\n",
       "      <th></th>\n",
       "      <th>Quotes</th>\n",
       "      <th>Author</th>\n",
       "      <th>Quotes Types</th>\n",
       "    </tr>\n",
       "  </thead>\n",
       "  <tbody>\n",
       "    <tr>\n",
       "      <th>0</th>\n",
       "      <td>The essence of strategy is choosing what not t...</td>\n",
       "      <td>Michael Porter</td>\n",
       "      <td>Essence, Deep Thought, Transcendentalism</td>\n",
       "    </tr>\n",
       "    <tr>\n",
       "      <th>1</th>\n",
       "      <td>One cannot and must not try to erase the past ...</td>\n",
       "      <td>Golda Meir</td>\n",
       "      <td>Inspiration, Past, Trying</td>\n",
       "    </tr>\n",
       "    <tr>\n",
       "      <th>2</th>\n",
       "      <td>Patriotism means to stand by the country. It d...</td>\n",
       "      <td>Theodore Roosevelt</td>\n",
       "      <td>Country, Peace, War</td>\n",
       "    </tr>\n",
       "    <tr>\n",
       "      <th>3</th>\n",
       "      <td>Death is something inevitable. When a man has ...</td>\n",
       "      <td>Nelson Mandela</td>\n",
       "      <td>Inspirational, Motivational, Death</td>\n",
       "    </tr>\n",
       "    <tr>\n",
       "      <th>4</th>\n",
       "      <td>You have to love a nation that celebrates its ...</td>\n",
       "      <td>Erma Bombeck</td>\n",
       "      <td>4th Of July, Food, Patriotic</td>\n",
       "    </tr>\n",
       "    <tr>\n",
       "      <th>...</th>\n",
       "      <td>...</td>\n",
       "      <td>...</td>\n",
       "      <td>...</td>\n",
       "    </tr>\n",
       "    <tr>\n",
       "      <th>895</th>\n",
       "      <td>To love means loving the unlovable. To forgive...</td>\n",
       "      <td>Gilbert K. Chesterton</td>\n",
       "      <td>Love, Inspirational, Success</td>\n",
       "    </tr>\n",
       "    <tr>\n",
       "      <th>896</th>\n",
       "      <td>Be brave. Take risks. Nothing can substitute e...</td>\n",
       "      <td>Paulo Coelho</td>\n",
       "      <td>Encouraging, Courage, Inspiration</td>\n",
       "    </tr>\n",
       "    <tr>\n",
       "      <th>897</th>\n",
       "      <td>If you really want to do something, you'll fin...</td>\n",
       "      <td>Jim Rohn</td>\n",
       "      <td>Inspirational, Motivational, Success</td>\n",
       "    </tr>\n",
       "    <tr>\n",
       "      <th>898</th>\n",
       "      <td>It is neither wealth nor splendor; but tranqui...</td>\n",
       "      <td>Thomas Jefferson</td>\n",
       "      <td>Life, Happiness, Work</td>\n",
       "    </tr>\n",
       "    <tr>\n",
       "      <th>899</th>\n",
       "      <td>A thousand words will not leave so deep an imp...</td>\n",
       "      <td>Henrik Ibsen</td>\n",
       "      <td>Inspirational, Inspiring, Positivity</td>\n",
       "    </tr>\n",
       "  </tbody>\n",
       "</table>\n",
       "<p>900 rows × 3 columns</p>\n",
       "</div>"
      ],
      "text/plain": [
       "                                                Quotes                 Author  \\\n",
       "0    The essence of strategy is choosing what not t...         Michael Porter   \n",
       "1    One cannot and must not try to erase the past ...             Golda Meir   \n",
       "2    Patriotism means to stand by the country. It d...     Theodore Roosevelt   \n",
       "3    Death is something inevitable. When a man has ...         Nelson Mandela   \n",
       "4    You have to love a nation that celebrates its ...           Erma Bombeck   \n",
       "..                                                 ...                    ...   \n",
       "895  To love means loving the unlovable. To forgive...  Gilbert K. Chesterton   \n",
       "896  Be brave. Take risks. Nothing can substitute e...           Paulo Coelho   \n",
       "897  If you really want to do something, you'll fin...               Jim Rohn   \n",
       "898  It is neither wealth nor splendor; but tranqui...       Thomas Jefferson   \n",
       "899  A thousand words will not leave so deep an imp...           Henrik Ibsen   \n",
       "\n",
       "                                 Quotes Types  \n",
       "0    Essence, Deep Thought, Transcendentalism  \n",
       "1                   Inspiration, Past, Trying  \n",
       "2                         Country, Peace, War  \n",
       "3          Inspirational, Motivational, Death  \n",
       "4                4th Of July, Food, Patriotic  \n",
       "..                                        ...  \n",
       "895              Love, Inspirational, Success  \n",
       "896         Encouraging, Courage, Inspiration  \n",
       "897      Inspirational, Motivational, Success  \n",
       "898                     Life, Happiness, Work  \n",
       "899      Inspirational, Inspiring, Positivity  \n",
       "\n",
       "[900 rows x 3 columns]"
      ]
     },
     "execution_count": 41,
     "metadata": {},
     "output_type": "execute_result"
    }
   ],
   "source": [
    "import pandas as pd\n",
    "df=pd.DataFrame({'Quotes':quotes_title,'Author':quotes_author,'Quotes Types':quotes_types})\n",
    "df"
   ]
  },
  {
   "cell_type": "code",
   "execution_count": null,
   "id": "588e4d76",
   "metadata": {},
   "outputs": [],
   "source": []
  }
 ],
 "metadata": {
  "kernelspec": {
   "display_name": "Python 3 (ipykernel)",
   "language": "python",
   "name": "python3"
  },
  "language_info": {
   "codemirror_mode": {
    "name": "ipython",
    "version": 3
   },
   "file_extension": ".py",
   "mimetype": "text/x-python",
   "name": "python",
   "nbconvert_exporter": "python",
   "pygments_lexer": "ipython3",
   "version": "3.10.9"
  }
 },
 "nbformat": 4,
 "nbformat_minor": 5
}
