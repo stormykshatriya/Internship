{
 "cells": [
  {
   "cell_type": "code",
   "execution_count": 1,
   "id": "1eed0295",
   "metadata": {},
   "outputs": [
    {
     "name": "stdout",
     "output_type": "stream",
     "text": [
      "Requirement already satisfied: selenium in c:\\users\\dell\\anaconda3\\lib\\site-packages (4.8.3)\n",
      "Requirement already satisfied: trio-websocket~=0.9 in c:\\users\\dell\\anaconda3\\lib\\site-packages (from selenium) (0.10.2)\n",
      "Requirement already satisfied: trio~=0.17 in c:\\users\\dell\\anaconda3\\lib\\site-packages (from selenium) (0.22.0)\n",
      "Requirement already satisfied: urllib3[socks]~=1.26 in c:\\users\\dell\\anaconda3\\lib\\site-packages (from selenium) (1.26.14)\n",
      "Requirement already satisfied: certifi>=2021.10.8 in c:\\users\\dell\\anaconda3\\lib\\site-packages (from selenium) (2022.12.7)\n",
      "Requirement already satisfied: idna in c:\\users\\dell\\anaconda3\\lib\\site-packages (from trio~=0.17->selenium) (3.4)\n",
      "Requirement already satisfied: attrs>=19.2.0 in c:\\users\\dell\\anaconda3\\lib\\site-packages (from trio~=0.17->selenium) (22.1.0)\n",
      "Requirement already satisfied: outcome in c:\\users\\dell\\anaconda3\\lib\\site-packages (from trio~=0.17->selenium) (1.2.0)\n",
      "Requirement already satisfied: cffi>=1.14 in c:\\users\\dell\\anaconda3\\lib\\site-packages (from trio~=0.17->selenium) (1.15.1)\n",
      "Requirement already satisfied: exceptiongroup>=1.0.0rc9 in c:\\users\\dell\\anaconda3\\lib\\site-packages (from trio~=0.17->selenium) (1.1.1)\n",
      "Requirement already satisfied: sniffio in c:\\users\\dell\\anaconda3\\lib\\site-packages (from trio~=0.17->selenium) (1.2.0)\n",
      "Requirement already satisfied: sortedcontainers in c:\\users\\dell\\anaconda3\\lib\\site-packages (from trio~=0.17->selenium) (2.4.0)\n",
      "Requirement already satisfied: async-generator>=1.9 in c:\\users\\dell\\anaconda3\\lib\\site-packages (from trio~=0.17->selenium) (1.10)\n",
      "Requirement already satisfied: wsproto>=0.14 in c:\\users\\dell\\anaconda3\\lib\\site-packages (from trio-websocket~=0.9->selenium) (1.2.0)\n",
      "Requirement already satisfied: PySocks!=1.5.7,<2.0,>=1.5.6 in c:\\users\\dell\\anaconda3\\lib\\site-packages (from urllib3[socks]~=1.26->selenium) (1.7.1)\n",
      "Requirement already satisfied: pycparser in c:\\users\\dell\\anaconda3\\lib\\site-packages (from cffi>=1.14->trio~=0.17->selenium) (2.21)\n",
      "Requirement already satisfied: h11<1,>=0.9.0 in c:\\users\\dell\\anaconda3\\lib\\site-packages (from wsproto>=0.14->trio-websocket~=0.9->selenium) (0.14.0)\n"
     ]
    }
   ],
   "source": [
    "!pip install selenium"
   ]
  },
  {
   "cell_type": "code",
   "execution_count": 2,
   "id": "2851f59a",
   "metadata": {},
   "outputs": [],
   "source": [
    "import selenium\n",
    "import pandas as pd\n",
    "from selenium import webdriver\n",
    "import warnings\n",
    "warnings.filterwarnings('ignore')\n",
    "from selenium.common.exceptions import StaleElementReferenceException, NoSuchElementException\n",
    "from selenium.webdriver.common.by import By\n",
    "import time\n",
    "import urllib"
   ]
  },
  {
   "cell_type": "code",
   "execution_count": 3,
   "id": "55922ab2",
   "metadata": {},
   "outputs": [],
   "source": [
    "driver=webdriver.Chrome(r\"C:\\Users\\DELL\\Desktop\\chrome\\chromedriver.exe\")"
   ]
  },
  {
   "cell_type": "code",
   "execution_count": 4,
   "id": "8b165bff",
   "metadata": {},
   "outputs": [],
   "source": [
    "driver.get(\"https://images.google.com/?gws_rd=ssl\")\n",
    "driver.maximize_window()"
   ]
  },
  {
   "cell_type": "code",
   "execution_count": 5,
   "id": "82af4919",
   "metadata": {},
   "outputs": [],
   "source": [
    "cars=driver.find_element(By.XPATH,\"/html/body/div[1]/div[3]/form/div[1]/div[1]/div[1]/div/div[2]/textarea\")\n",
    "cars.send_keys('cars')"
   ]
  },
  {
   "cell_type": "code",
   "execution_count": 6,
   "id": "28476be7",
   "metadata": {},
   "outputs": [],
   "source": [
    "search=driver.find_element(By.CLASS_NAME,\"zgAlFc\")\n",
    "search.click()"
   ]
  },
  {
   "cell_type": "code",
   "execution_count": 7,
   "id": "9fa6d362",
   "metadata": {},
   "outputs": [],
   "source": [
    "imageResult = []"
   ]
  },
  {
   "cell_type": "code",
   "execution_count": 8,
   "id": "eab54414",
   "metadata": {},
   "outputs": [],
   "source": [
    "imgResults = driver.find_elements(By.XPATH,'//img[@class=\"rg_i Q4LuWd\"]')"
   ]
  },
  {
   "cell_type": "code",
   "execution_count": 9,
   "id": "6eb31cd3",
   "metadata": {},
   "outputs": [
    {
     "name": "stdout",
     "output_type": "stream",
     "text": [
      "46\n"
     ]
    }
   ],
   "source": [
    "print(len(imgResults))"
   ]
  },
  {
   "cell_type": "code",
   "execution_count": 10,
   "id": "fcc96ba8",
   "metadata": {},
   "outputs": [],
   "source": [
    "src = []\n",
    "for img in imgResults:\n",
    "    src.append(img.get_attribute('src'))"
   ]
  },
  {
   "cell_type": "code",
   "execution_count": 13,
   "id": "5556d0e3",
   "metadata": {},
   "outputs": [],
   "source": [
    "for i in range(10):\n",
    "    urllib.request.urlretrieve(str(src[i]),r\"C:\\Users\\DELL\\Desktop\\image\\cars\\cars{}.jpg\".format(i))"
   ]
  },
  {
   "cell_type": "code",
   "execution_count": 14,
   "id": "e7009cda",
   "metadata": {},
   "outputs": [
    {
     "data": {
      "text/plain": [
       "[<selenium.webdriver.remote.webelement.WebElement (session=\"fd3cfc00142e2a1c1278a98c99043996\", element=\"a197fcfc-33e4-4f72-8484-4eff62f71c19\")>,\n",
       " <selenium.webdriver.remote.webelement.WebElement (session=\"fd3cfc00142e2a1c1278a98c99043996\", element=\"1a23fb14-49ed-4e87-9582-8f3513407ac7\")>,\n",
       " <selenium.webdriver.remote.webelement.WebElement (session=\"fd3cfc00142e2a1c1278a98c99043996\", element=\"b068cbc9-fba5-43ab-bb55-92a9c7ed908f\")>,\n",
       " <selenium.webdriver.remote.webelement.WebElement (session=\"fd3cfc00142e2a1c1278a98c99043996\", element=\"52d110bb-64d1-47e3-94fa-85e9a8d4fbf1\")>,\n",
       " <selenium.webdriver.remote.webelement.WebElement (session=\"fd3cfc00142e2a1c1278a98c99043996\", element=\"924a01c7-93c5-4445-b758-51849b0c6274\")>,\n",
       " <selenium.webdriver.remote.webelement.WebElement (session=\"fd3cfc00142e2a1c1278a98c99043996\", element=\"ecdb42a4-5fb8-422f-b401-abe42748a957\")>,\n",
       " <selenium.webdriver.remote.webelement.WebElement (session=\"fd3cfc00142e2a1c1278a98c99043996\", element=\"1e781706-5266-4d8e-8a93-9c66b419eac1\")>,\n",
       " <selenium.webdriver.remote.webelement.WebElement (session=\"fd3cfc00142e2a1c1278a98c99043996\", element=\"884c4271-5ea6-4129-b1ce-bdcb863f3042\")>,\n",
       " <selenium.webdriver.remote.webelement.WebElement (session=\"fd3cfc00142e2a1c1278a98c99043996\", element=\"7666d5cb-be89-466b-9f7d-7da6724b781c\")>,\n",
       " <selenium.webdriver.remote.webelement.WebElement (session=\"fd3cfc00142e2a1c1278a98c99043996\", element=\"79baf6cd-01b1-41ce-860d-2744e0c3cb4e\")>]"
      ]
     },
     "execution_count": 14,
     "metadata": {},
     "output_type": "execute_result"
    }
   ],
   "source": [
    "imgResults[0:10]"
   ]
  },
  {
   "cell_type": "code",
   "execution_count": null,
   "id": "064eee82",
   "metadata": {},
   "outputs": [],
   "source": []
  }
 ],
 "metadata": {
  "kernelspec": {
   "display_name": "Python 3 (ipykernel)",
   "language": "python",
   "name": "python3"
  },
  "language_info": {
   "codemirror_mode": {
    "name": "ipython",
    "version": 3
   },
   "file_extension": ".py",
   "mimetype": "text/x-python",
   "name": "python",
   "nbconvert_exporter": "python",
   "pygments_lexer": "ipython3",
   "version": "3.10.9"
  }
 },
 "nbformat": 4,
 "nbformat_minor": 5
}
