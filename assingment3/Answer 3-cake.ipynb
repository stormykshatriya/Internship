{
 "cells": [
  {
   "cell_type": "code",
   "execution_count": 1,
   "id": "6169ce38",
   "metadata": {},
   "outputs": [
    {
     "name": "stdout",
     "output_type": "stream",
     "text": [
      "Requirement already satisfied: selenium in c:\\users\\dell\\anaconda3\\lib\\site-packages (4.8.3)\n",
      "Requirement already satisfied: trio-websocket~=0.9 in c:\\users\\dell\\anaconda3\\lib\\site-packages (from selenium) (0.10.2)\n",
      "Requirement already satisfied: certifi>=2021.10.8 in c:\\users\\dell\\anaconda3\\lib\\site-packages (from selenium) (2022.12.7)\n",
      "Requirement already satisfied: trio~=0.17 in c:\\users\\dell\\anaconda3\\lib\\site-packages (from selenium) (0.22.0)\n",
      "Requirement already satisfied: urllib3[socks]~=1.26 in c:\\users\\dell\\anaconda3\\lib\\site-packages (from selenium) (1.26.14)\n",
      "Requirement already satisfied: async-generator>=1.9 in c:\\users\\dell\\anaconda3\\lib\\site-packages (from trio~=0.17->selenium) (1.10)\n",
      "Requirement already satisfied: sniffio in c:\\users\\dell\\anaconda3\\lib\\site-packages (from trio~=0.17->selenium) (1.2.0)\n",
      "Requirement already satisfied: attrs>=19.2.0 in c:\\users\\dell\\anaconda3\\lib\\site-packages (from trio~=0.17->selenium) (22.1.0)\n",
      "Requirement already satisfied: sortedcontainers in c:\\users\\dell\\anaconda3\\lib\\site-packages (from trio~=0.17->selenium) (2.4.0)\n",
      "Requirement already satisfied: idna in c:\\users\\dell\\anaconda3\\lib\\site-packages (from trio~=0.17->selenium) (3.4)\n",
      "Requirement already satisfied: outcome in c:\\users\\dell\\anaconda3\\lib\\site-packages (from trio~=0.17->selenium) (1.2.0)\n",
      "Requirement already satisfied: exceptiongroup>=1.0.0rc9 in c:\\users\\dell\\anaconda3\\lib\\site-packages (from trio~=0.17->selenium) (1.1.1)\n",
      "Requirement already satisfied: cffi>=1.14 in c:\\users\\dell\\anaconda3\\lib\\site-packages (from trio~=0.17->selenium) (1.15.1)\n",
      "Requirement already satisfied: wsproto>=0.14 in c:\\users\\dell\\anaconda3\\lib\\site-packages (from trio-websocket~=0.9->selenium) (1.2.0)\n",
      "Requirement already satisfied: PySocks!=1.5.7,<2.0,>=1.5.6 in c:\\users\\dell\\anaconda3\\lib\\site-packages (from urllib3[socks]~=1.26->selenium) (1.7.1)\n",
      "Requirement already satisfied: pycparser in c:\\users\\dell\\anaconda3\\lib\\site-packages (from cffi>=1.14->trio~=0.17->selenium) (2.21)\n",
      "Requirement already satisfied: h11<1,>=0.9.0 in c:\\users\\dell\\anaconda3\\lib\\site-packages (from wsproto>=0.14->trio-websocket~=0.9->selenium) (0.14.0)\n"
     ]
    }
   ],
   "source": [
    "!pip install selenium"
   ]
  },
  {
   "cell_type": "code",
   "execution_count": 2,
   "id": "89deb274",
   "metadata": {},
   "outputs": [],
   "source": [
    "import selenium\n",
    "import pandas as pd\n",
    "from selenium import webdriver\n",
    "import warnings\n",
    "warnings.filterwarnings('ignore')\n",
    "from selenium.common.exceptions import StaleElementReferenceException, NoSuchElementException\n",
    "from selenium.webdriver.common.by import By\n",
    "import time\n",
    "import urllib"
   ]
  },
  {
   "cell_type": "code",
   "execution_count": 3,
   "id": "ef2e22c1",
   "metadata": {},
   "outputs": [],
   "source": [
    "driver=webdriver.Chrome(r\"C:\\Users\\DELL\\Desktop\\chrome\\chromedriver.exe\")"
   ]
  },
  {
   "cell_type": "code",
   "execution_count": 4,
   "id": "092c4ef5",
   "metadata": {},
   "outputs": [],
   "source": [
    "driver.get(\"https://images.google.com/?gws_rd=ssl\")\n",
    "driver.maximize_window()"
   ]
  },
  {
   "cell_type": "code",
   "execution_count": 5,
   "id": "7a68a1ec",
   "metadata": {},
   "outputs": [],
   "source": [
    "cake=driver.find_element(By.XPATH,\"/html/body/div[1]/div[3]/form/div[1]/div[1]/div[1]/div/div[2]/textarea\")\n",
    "cake.send_keys('cake')"
   ]
  },
  {
   "cell_type": "code",
   "execution_count": 6,
   "id": "a110844b",
   "metadata": {},
   "outputs": [],
   "source": [
    "search=driver.find_element(By.CLASS_NAME,\"zgAlFc\")\n",
    "search.click()"
   ]
  },
  {
   "cell_type": "code",
   "execution_count": 7,
   "id": "0d4fb41f",
   "metadata": {},
   "outputs": [],
   "source": [
    "imageResult = []"
   ]
  },
  {
   "cell_type": "code",
   "execution_count": 8,
   "id": "d672e4df",
   "metadata": {},
   "outputs": [],
   "source": [
    "imgResults = driver.find_elements(By.XPATH,'//img[@class=\"rg_i Q4LuWd\"]')"
   ]
  },
  {
   "cell_type": "code",
   "execution_count": 9,
   "id": "6133024d",
   "metadata": {},
   "outputs": [
    {
     "name": "stdout",
     "output_type": "stream",
     "text": [
      "46\n"
     ]
    }
   ],
   "source": [
    "print(len(imgResults))"
   ]
  },
  {
   "cell_type": "code",
   "execution_count": 10,
   "id": "b44d925a",
   "metadata": {},
   "outputs": [],
   "source": [
    "src = []\n",
    "for img in imgResults:\n",
    "    src.append(img.get_attribute('src'))"
   ]
  },
  {
   "cell_type": "code",
   "execution_count": 11,
   "id": "3e3004cd",
   "metadata": {},
   "outputs": [],
   "source": [
    "for i in range(10):\n",
    "    urllib.request.urlretrieve(str(src[i]),r\"C:\\Users\\DELL\\Desktop\\image\\cake\\cakes{}.jpg\".format(i))"
   ]
  },
  {
   "cell_type": "code",
   "execution_count": 12,
   "id": "e744dc81",
   "metadata": {},
   "outputs": [
    {
     "data": {
      "text/plain": [
       "[<selenium.webdriver.remote.webelement.WebElement (session=\"5afea67f48a6f7e1e7a40b296c7c4a23\", element=\"3b0f5f76-5ef7-460d-b243-0e61ab24c4d1\")>,\n",
       " <selenium.webdriver.remote.webelement.WebElement (session=\"5afea67f48a6f7e1e7a40b296c7c4a23\", element=\"b4712921-e71f-46ca-a7ea-c3e22d24c795\")>,\n",
       " <selenium.webdriver.remote.webelement.WebElement (session=\"5afea67f48a6f7e1e7a40b296c7c4a23\", element=\"942b0b59-9bd5-4353-ba0a-76380fccbeb8\")>,\n",
       " <selenium.webdriver.remote.webelement.WebElement (session=\"5afea67f48a6f7e1e7a40b296c7c4a23\", element=\"b9ab5741-3005-4414-84be-741d0733d916\")>,\n",
       " <selenium.webdriver.remote.webelement.WebElement (session=\"5afea67f48a6f7e1e7a40b296c7c4a23\", element=\"6e58e1a8-4fb8-466a-b0f8-b4ba050ce50f\")>,\n",
       " <selenium.webdriver.remote.webelement.WebElement (session=\"5afea67f48a6f7e1e7a40b296c7c4a23\", element=\"1091d085-c4a4-446f-9c63-800659b166ea\")>,\n",
       " <selenium.webdriver.remote.webelement.WebElement (session=\"5afea67f48a6f7e1e7a40b296c7c4a23\", element=\"9ad9d7bb-82e0-458d-ba53-676f9d220dd2\")>,\n",
       " <selenium.webdriver.remote.webelement.WebElement (session=\"5afea67f48a6f7e1e7a40b296c7c4a23\", element=\"4d6aaedb-08a0-4cfd-8f65-c963092e3d23\")>,\n",
       " <selenium.webdriver.remote.webelement.WebElement (session=\"5afea67f48a6f7e1e7a40b296c7c4a23\", element=\"627c24a3-af1c-409f-91e8-16d15c81d8ac\")>,\n",
       " <selenium.webdriver.remote.webelement.WebElement (session=\"5afea67f48a6f7e1e7a40b296c7c4a23\", element=\"5a9c8197-28ae-4f26-9f2b-768e9c83f9f3\")>]"
      ]
     },
     "execution_count": 12,
     "metadata": {},
     "output_type": "execute_result"
    }
   ],
   "source": [
    "imgResults[0:10]"
   ]
  },
  {
   "cell_type": "code",
   "execution_count": null,
   "id": "a027ce8e",
   "metadata": {},
   "outputs": [],
   "source": []
  }
 ],
 "metadata": {
  "kernelspec": {
   "display_name": "Python 3 (ipykernel)",
   "language": "python",
   "name": "python3"
  },
  "language_info": {
   "codemirror_mode": {
    "name": "ipython",
    "version": 3
   },
   "file_extension": ".py",
   "mimetype": "text/x-python",
   "name": "python",
   "nbconvert_exporter": "python",
   "pygments_lexer": "ipython3",
   "version": "3.10.9"
  }
 },
 "nbformat": 4,
 "nbformat_minor": 5
}
