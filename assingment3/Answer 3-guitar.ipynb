{
 "cells": [
  {
   "cell_type": "code",
   "execution_count": 1,
   "id": "9a0d2d50",
   "metadata": {},
   "outputs": [
    {
     "name": "stdout",
     "output_type": "stream",
     "text": [
      "Requirement already satisfied: selenium in c:\\users\\dell\\anaconda3\\lib\\site-packages (4.8.3)\n",
      "Requirement already satisfied: certifi>=2021.10.8 in c:\\users\\dell\\anaconda3\\lib\\site-packages (from selenium) (2022.12.7)\n",
      "Requirement already satisfied: trio~=0.17 in c:\\users\\dell\\anaconda3\\lib\\site-packages (from selenium) (0.22.0)\n",
      "Requirement already satisfied: urllib3[socks]~=1.26 in c:\\users\\dell\\anaconda3\\lib\\site-packages (from selenium) (1.26.14)\n",
      "Requirement already satisfied: trio-websocket~=0.9 in c:\\users\\dell\\anaconda3\\lib\\site-packages (from selenium) (0.10.2)\n",
      "Requirement already satisfied: sortedcontainers in c:\\users\\dell\\anaconda3\\lib\\site-packages (from trio~=0.17->selenium) (2.4.0)\n",
      "Requirement already satisfied: idna in c:\\users\\dell\\anaconda3\\lib\\site-packages (from trio~=0.17->selenium) (3.4)\n",
      "Requirement already satisfied: sniffio in c:\\users\\dell\\anaconda3\\lib\\site-packages (from trio~=0.17->selenium) (1.2.0)\n",
      "Requirement already satisfied: exceptiongroup>=1.0.0rc9 in c:\\users\\dell\\anaconda3\\lib\\site-packages (from trio~=0.17->selenium) (1.1.1)\n",
      "Requirement already satisfied: outcome in c:\\users\\dell\\anaconda3\\lib\\site-packages (from trio~=0.17->selenium) (1.2.0)\n",
      "Requirement already satisfied: async-generator>=1.9 in c:\\users\\dell\\anaconda3\\lib\\site-packages (from trio~=0.17->selenium) (1.10)\n",
      "Requirement already satisfied: attrs>=19.2.0 in c:\\users\\dell\\anaconda3\\lib\\site-packages (from trio~=0.17->selenium) (22.1.0)\n",
      "Requirement already satisfied: cffi>=1.14 in c:\\users\\dell\\anaconda3\\lib\\site-packages (from trio~=0.17->selenium) (1.15.1)\n",
      "Requirement already satisfied: wsproto>=0.14 in c:\\users\\dell\\anaconda3\\lib\\site-packages (from trio-websocket~=0.9->selenium) (1.2.0)\n",
      "Requirement already satisfied: PySocks!=1.5.7,<2.0,>=1.5.6 in c:\\users\\dell\\anaconda3\\lib\\site-packages (from urllib3[socks]~=1.26->selenium) (1.7.1)\n",
      "Requirement already satisfied: pycparser in c:\\users\\dell\\anaconda3\\lib\\site-packages (from cffi>=1.14->trio~=0.17->selenium) (2.21)\n",
      "Requirement already satisfied: h11<1,>=0.9.0 in c:\\users\\dell\\anaconda3\\lib\\site-packages (from wsproto>=0.14->trio-websocket~=0.9->selenium) (0.14.0)\n"
     ]
    }
   ],
   "source": [
    "!pip install selenium"
   ]
  },
  {
   "cell_type": "code",
   "execution_count": 2,
   "id": "7b3f9b3f",
   "metadata": {},
   "outputs": [],
   "source": [
    "import selenium\n",
    "import pandas as pd\n",
    "from selenium import webdriver\n",
    "import warnings\n",
    "warnings.filterwarnings('ignore')\n",
    "from selenium.common.exceptions import StaleElementReferenceException, NoSuchElementException\n",
    "from selenium.webdriver.common.by import By\n",
    "import time\n",
    "import urllib"
   ]
  },
  {
   "cell_type": "code",
   "execution_count": 3,
   "id": "d3be5cc8",
   "metadata": {},
   "outputs": [],
   "source": [
    "driver=webdriver.Chrome(r\"C:\\Users\\DELL\\Desktop\\chrome\\chromedriver.exe\")"
   ]
  },
  {
   "cell_type": "code",
   "execution_count": 4,
   "id": "8432785c",
   "metadata": {},
   "outputs": [],
   "source": [
    "driver.get(\"https://images.google.com/?gws_rd=ssl\")\n",
    "driver.maximize_window()"
   ]
  },
  {
   "cell_type": "code",
   "execution_count": 6,
   "id": "782c3745",
   "metadata": {},
   "outputs": [],
   "source": [
    "guitar=driver.find_element(By.XPATH,\"/html/body/div[1]/div[3]/form/div[1]/div[1]/div[1]/div/div[2]/textarea\")\n",
    "guitar.send_keys('guitar')"
   ]
  },
  {
   "cell_type": "code",
   "execution_count": 7,
   "id": "f0cd83de",
   "metadata": {},
   "outputs": [],
   "source": [
    "search=driver.find_element(By.CLASS_NAME,\"zgAlFc\")\n",
    "search.click()"
   ]
  },
  {
   "cell_type": "code",
   "execution_count": 8,
   "id": "edc6496f",
   "metadata": {},
   "outputs": [],
   "source": [
    "imageResult = []"
   ]
  },
  {
   "cell_type": "code",
   "execution_count": 9,
   "id": "52623aa3",
   "metadata": {},
   "outputs": [],
   "source": [
    "imgResults = driver.find_elements(By.XPATH,'//img[@class=\"rg_i Q4LuWd\"]')"
   ]
  },
  {
   "cell_type": "code",
   "execution_count": 10,
   "id": "a6b1d197",
   "metadata": {},
   "outputs": [
    {
     "name": "stdout",
     "output_type": "stream",
     "text": [
      "48\n"
     ]
    }
   ],
   "source": [
    "print(len(imgResults))"
   ]
  },
  {
   "cell_type": "code",
   "execution_count": 11,
   "id": "8a444e00",
   "metadata": {},
   "outputs": [],
   "source": [
    "src = []\n",
    "for img in imgResults:\n",
    "    src.append(img.get_attribute('src'))"
   ]
  },
  {
   "cell_type": "code",
   "execution_count": 12,
   "id": "588965b8",
   "metadata": {},
   "outputs": [],
   "source": [
    "for i in range(10):\n",
    "    urllib.request.urlretrieve(str(src[i]),r\"C:\\Users\\DELL\\Desktop\\image\\guitar\\guitar{}.jpg\".format(i))"
   ]
  },
  {
   "cell_type": "code",
   "execution_count": 13,
   "id": "921891a7",
   "metadata": {},
   "outputs": [
    {
     "data": {
      "text/plain": [
       "[<selenium.webdriver.remote.webelement.WebElement (session=\"1c0c67f30cd4ece22e78e1ed2b38c6e7\", element=\"aeebb01a-ae12-40e3-9da8-7f8a67c200ab\")>,\n",
       " <selenium.webdriver.remote.webelement.WebElement (session=\"1c0c67f30cd4ece22e78e1ed2b38c6e7\", element=\"00908516-2625-4258-aea8-3f0858bcb4e1\")>,\n",
       " <selenium.webdriver.remote.webelement.WebElement (session=\"1c0c67f30cd4ece22e78e1ed2b38c6e7\", element=\"d0ac98d9-9418-4cff-b7fa-d4202c298b1f\")>,\n",
       " <selenium.webdriver.remote.webelement.WebElement (session=\"1c0c67f30cd4ece22e78e1ed2b38c6e7\", element=\"8eecc0bc-ea30-47a9-9bae-f782b4fcc572\")>,\n",
       " <selenium.webdriver.remote.webelement.WebElement (session=\"1c0c67f30cd4ece22e78e1ed2b38c6e7\", element=\"5c53e4ea-85fc-434b-85c1-18dffe7d22d7\")>,\n",
       " <selenium.webdriver.remote.webelement.WebElement (session=\"1c0c67f30cd4ece22e78e1ed2b38c6e7\", element=\"7743f315-b02d-48b6-a707-7f7d77aefad1\")>,\n",
       " <selenium.webdriver.remote.webelement.WebElement (session=\"1c0c67f30cd4ece22e78e1ed2b38c6e7\", element=\"770e4d4a-0103-4ce0-9ed4-e0a41f496131\")>,\n",
       " <selenium.webdriver.remote.webelement.WebElement (session=\"1c0c67f30cd4ece22e78e1ed2b38c6e7\", element=\"23671d00-70e7-4f99-a052-2df5e7a7f285\")>,\n",
       " <selenium.webdriver.remote.webelement.WebElement (session=\"1c0c67f30cd4ece22e78e1ed2b38c6e7\", element=\"b8d5689b-2e83-41cc-9719-2fececa1bdbf\")>,\n",
       " <selenium.webdriver.remote.webelement.WebElement (session=\"1c0c67f30cd4ece22e78e1ed2b38c6e7\", element=\"24bc6ad6-da1f-4375-b793-be7fec45f7ff\")>]"
      ]
     },
     "execution_count": 13,
     "metadata": {},
     "output_type": "execute_result"
    }
   ],
   "source": [
    "imgResults[0:10]"
   ]
  },
  {
   "cell_type": "code",
   "execution_count": null,
   "id": "e3ed437b",
   "metadata": {},
   "outputs": [],
   "source": []
  }
 ],
 "metadata": {
  "kernelspec": {
   "display_name": "Python 3 (ipykernel)",
   "language": "python",
   "name": "python3"
  },
  "language_info": {
   "codemirror_mode": {
    "name": "ipython",
    "version": 3
   },
   "file_extension": ".py",
   "mimetype": "text/x-python",
   "name": "python",
   "nbconvert_exporter": "python",
   "pygments_lexer": "ipython3",
   "version": "3.10.9"
  }
 },
 "nbformat": 4,
 "nbformat_minor": 5
}
