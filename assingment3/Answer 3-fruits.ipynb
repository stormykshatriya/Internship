{
 "cells": [
  {
   "cell_type": "code",
   "execution_count": 1,
   "id": "bc2bee79",
   "metadata": {},
   "outputs": [
    {
     "name": "stdout",
     "output_type": "stream",
     "text": [
      "Requirement already satisfied: selenium in c:\\users\\dell\\anaconda3\\lib\\site-packages (4.8.3)\n",
      "Requirement already satisfied: trio~=0.17 in c:\\users\\dell\\anaconda3\\lib\\site-packages (from selenium) (0.22.0)\n",
      "Requirement already satisfied: trio-websocket~=0.9 in c:\\users\\dell\\anaconda3\\lib\\site-packages (from selenium) (0.10.2)\n",
      "Requirement already satisfied: certifi>=2021.10.8 in c:\\users\\dell\\anaconda3\\lib\\site-packages (from selenium) (2022.12.7)\n",
      "Requirement already satisfied: urllib3[socks]~=1.26 in c:\\users\\dell\\anaconda3\\lib\\site-packages (from selenium) (1.26.14)\n",
      "Requirement already satisfied: sniffio in c:\\users\\dell\\anaconda3\\lib\\site-packages (from trio~=0.17->selenium) (1.2.0)\n",
      "Requirement already satisfied: exceptiongroup>=1.0.0rc9 in c:\\users\\dell\\anaconda3\\lib\\site-packages (from trio~=0.17->selenium) (1.1.1)\n",
      "Requirement already satisfied: attrs>=19.2.0 in c:\\users\\dell\\anaconda3\\lib\\site-packages (from trio~=0.17->selenium) (22.1.0)\n",
      "Requirement already satisfied: cffi>=1.14 in c:\\users\\dell\\anaconda3\\lib\\site-packages (from trio~=0.17->selenium) (1.15.1)\n",
      "Requirement already satisfied: outcome in c:\\users\\dell\\anaconda3\\lib\\site-packages (from trio~=0.17->selenium) (1.2.0)\n",
      "Requirement already satisfied: async-generator>=1.9 in c:\\users\\dell\\anaconda3\\lib\\site-packages (from trio~=0.17->selenium) (1.10)\n",
      "Requirement already satisfied: sortedcontainers in c:\\users\\dell\\anaconda3\\lib\\site-packages (from trio~=0.17->selenium) (2.4.0)\n",
      "Requirement already satisfied: idna in c:\\users\\dell\\anaconda3\\lib\\site-packages (from trio~=0.17->selenium) (3.4)\n",
      "Requirement already satisfied: wsproto>=0.14 in c:\\users\\dell\\anaconda3\\lib\\site-packages (from trio-websocket~=0.9->selenium) (1.2.0)\n",
      "Requirement already satisfied: PySocks!=1.5.7,<2.0,>=1.5.6 in c:\\users\\dell\\anaconda3\\lib\\site-packages (from urllib3[socks]~=1.26->selenium) (1.7.1)\n",
      "Requirement already satisfied: pycparser in c:\\users\\dell\\anaconda3\\lib\\site-packages (from cffi>=1.14->trio~=0.17->selenium) (2.21)\n",
      "Requirement already satisfied: h11<1,>=0.9.0 in c:\\users\\dell\\anaconda3\\lib\\site-packages (from wsproto>=0.14->trio-websocket~=0.9->selenium) (0.14.0)\n"
     ]
    }
   ],
   "source": [
    "!pip install selenium"
   ]
  },
  {
   "cell_type": "code",
   "execution_count": 28,
   "id": "f11d5579",
   "metadata": {},
   "outputs": [],
   "source": [
    "import selenium\n",
    "import pandas as pd\n",
    "from selenium import webdriver\n",
    "import warnings\n",
    "warnings.filterwarnings('ignore')\n",
    "from selenium.common.exceptions import StaleElementReferenceException, NoSuchElementException\n",
    "from selenium.webdriver.common.by import By\n",
    "import time\n",
    "import urllib"
   ]
  },
  {
   "cell_type": "code",
   "execution_count": 29,
   "id": "d12a5365",
   "metadata": {},
   "outputs": [],
   "source": [
    "driver=webdriver.Chrome(r\"C:\\Users\\DELL\\Desktop\\chrome\\chromedriver.exe\")"
   ]
  },
  {
   "cell_type": "code",
   "execution_count": 31,
   "id": "90d08607",
   "metadata": {},
   "outputs": [],
   "source": [
    "driver.get(\"https://images.google.com/?gws_rd=ssl\")\n",
    "driver.maximize_window()"
   ]
  },
  {
   "cell_type": "code",
   "execution_count": 32,
   "id": "e1e6e16b",
   "metadata": {},
   "outputs": [],
   "source": [
    "fruits=driver.find_element(By.XPATH,\"/html/body/div[1]/div[3]/form/div[1]/div[1]/div[1]/div/div[2]/textarea\")\n",
    "fruits.send_keys('fruits')"
   ]
  },
  {
   "cell_type": "code",
   "execution_count": 33,
   "id": "bb3b8670",
   "metadata": {},
   "outputs": [],
   "source": [
    "search=driver.find_element(By.CLASS_NAME,\"zgAlFc\")\n",
    "search.click()"
   ]
  },
  {
   "cell_type": "code",
   "execution_count": 34,
   "id": "7227112f",
   "metadata": {},
   "outputs": [],
   "source": [
    "imageResult = []"
   ]
  },
  {
   "cell_type": "code",
   "execution_count": 35,
   "id": "0d5c6c87",
   "metadata": {},
   "outputs": [],
   "source": [
    "imgResults = driver.find_elements(By.XPATH,'//img[@class=\"rg_i Q4LuWd\"]')"
   ]
  },
  {
   "cell_type": "code",
   "execution_count": 36,
   "id": "90c4a8ab",
   "metadata": {},
   "outputs": [
    {
     "name": "stdout",
     "output_type": "stream",
     "text": [
      "48\n"
     ]
    }
   ],
   "source": [
    "print(len(imgResults))"
   ]
  },
  {
   "cell_type": "code",
   "execution_count": 37,
   "id": "16d4d27c",
   "metadata": {},
   "outputs": [],
   "source": [
    "src = []\n",
    "for img in imgResults:\n",
    "    src.append(img.get_attribute('src'))"
   ]
  },
  {
   "cell_type": "code",
   "execution_count": 50,
   "id": "f82153cb",
   "metadata": {},
   "outputs": [],
   "source": [
    "for i in range(10):\n",
    "    urllib.request.urlretrieve(str(src[i]),r\"C:\\Users\\DELL\\Desktop\\image\\fruits\\fruits{}.jpg\".format(i))"
   ]
  },
  {
   "cell_type": "code",
   "execution_count": 49,
   "id": "c1dd2e6c",
   "metadata": {},
   "outputs": [
    {
     "data": {
      "text/plain": [
       "[<selenium.webdriver.remote.webelement.WebElement (session=\"f550d0160a8063e7d4d9183f61fee2a2\", element=\"913b8ec2-863e-49df-8df0-8f7e8c46f8e0\")>,\n",
       " <selenium.webdriver.remote.webelement.WebElement (session=\"f550d0160a8063e7d4d9183f61fee2a2\", element=\"2c50f9a2-8829-4a9d-8516-c59dc53df2f6\")>,\n",
       " <selenium.webdriver.remote.webelement.WebElement (session=\"f550d0160a8063e7d4d9183f61fee2a2\", element=\"f5239002-d7f7-4e34-b1b0-a6169120643c\")>,\n",
       " <selenium.webdriver.remote.webelement.WebElement (session=\"f550d0160a8063e7d4d9183f61fee2a2\", element=\"739961ca-4fdf-4ddc-bf2e-fe5a556fb6e2\")>,\n",
       " <selenium.webdriver.remote.webelement.WebElement (session=\"f550d0160a8063e7d4d9183f61fee2a2\", element=\"529f0f31-b78c-4a5a-ba29-55e64709b95a\")>,\n",
       " <selenium.webdriver.remote.webelement.WebElement (session=\"f550d0160a8063e7d4d9183f61fee2a2\", element=\"e4047dda-d186-4d59-bf69-92e6ef853d68\")>,\n",
       " <selenium.webdriver.remote.webelement.WebElement (session=\"f550d0160a8063e7d4d9183f61fee2a2\", element=\"e588ea32-4595-4d40-803f-935046587958\")>,\n",
       " <selenium.webdriver.remote.webelement.WebElement (session=\"f550d0160a8063e7d4d9183f61fee2a2\", element=\"b4e7ae29-429f-44b4-8ad4-20f762921b66\")>,\n",
       " <selenium.webdriver.remote.webelement.WebElement (session=\"f550d0160a8063e7d4d9183f61fee2a2\", element=\"88f358ef-060a-46b4-b114-cc28cf2c4b95\")>,\n",
       " <selenium.webdriver.remote.webelement.WebElement (session=\"f550d0160a8063e7d4d9183f61fee2a2\", element=\"c7ce9d44-8daa-4a72-8359-6b3c1f0e3376\")>]"
      ]
     },
     "execution_count": 49,
     "metadata": {},
     "output_type": "execute_result"
    }
   ],
   "source": [
    "imgResults[0:10]"
   ]
  },
  {
   "cell_type": "code",
   "execution_count": null,
   "id": "dd9112de",
   "metadata": {},
   "outputs": [],
   "source": []
  }
 ],
 "metadata": {
  "kernelspec": {
   "display_name": "Python 3 (ipykernel)",
   "language": "python",
   "name": "python3"
  },
  "language_info": {
   "codemirror_mode": {
    "name": "ipython",
    "version": 3
   },
   "file_extension": ".py",
   "mimetype": "text/x-python",
   "name": "python",
   "nbconvert_exporter": "python",
   "pygments_lexer": "ipython3",
   "version": "3.10.9"
  }
 },
 "nbformat": 4,
 "nbformat_minor": 5
}
