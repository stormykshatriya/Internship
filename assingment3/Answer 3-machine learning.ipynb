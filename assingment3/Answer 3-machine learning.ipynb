{
 "cells": [
  {
   "cell_type": "code",
   "execution_count": 1,
   "id": "d11e5c37",
   "metadata": {},
   "outputs": [
    {
     "name": "stdout",
     "output_type": "stream",
     "text": [
      "Requirement already satisfied: selenium in c:\\users\\dell\\anaconda3\\lib\\site-packages (4.8.3)\n",
      "Requirement already satisfied: trio~=0.17 in c:\\users\\dell\\anaconda3\\lib\\site-packages (from selenium) (0.22.0)\n",
      "Requirement already satisfied: trio-websocket~=0.9 in c:\\users\\dell\\anaconda3\\lib\\site-packages (from selenium) (0.10.2)\n",
      "Requirement already satisfied: certifi>=2021.10.8 in c:\\users\\dell\\anaconda3\\lib\\site-packages (from selenium) (2022.12.7)\n",
      "Requirement already satisfied: urllib3[socks]~=1.26 in c:\\users\\dell\\anaconda3\\lib\\site-packages (from selenium) (1.26.14)\n",
      "Requirement already satisfied: sortedcontainers in c:\\users\\dell\\anaconda3\\lib\\site-packages (from trio~=0.17->selenium) (2.4.0)\n",
      "Requirement already satisfied: async-generator>=1.9 in c:\\users\\dell\\anaconda3\\lib\\site-packages (from trio~=0.17->selenium) (1.10)\n",
      "Requirement already satisfied: idna in c:\\users\\dell\\anaconda3\\lib\\site-packages (from trio~=0.17->selenium) (3.4)\n",
      "Requirement already satisfied: sniffio in c:\\users\\dell\\anaconda3\\lib\\site-packages (from trio~=0.17->selenium) (1.2.0)\n",
      "Requirement already satisfied: cffi>=1.14 in c:\\users\\dell\\anaconda3\\lib\\site-packages (from trio~=0.17->selenium) (1.15.1)\n",
      "Requirement already satisfied: outcome in c:\\users\\dell\\anaconda3\\lib\\site-packages (from trio~=0.17->selenium) (1.2.0)\n",
      "Requirement already satisfied: exceptiongroup>=1.0.0rc9 in c:\\users\\dell\\anaconda3\\lib\\site-packages (from trio~=0.17->selenium) (1.1.1)\n",
      "Requirement already satisfied: attrs>=19.2.0 in c:\\users\\dell\\anaconda3\\lib\\site-packages (from trio~=0.17->selenium) (22.1.0)\n",
      "Requirement already satisfied: wsproto>=0.14 in c:\\users\\dell\\anaconda3\\lib\\site-packages (from trio-websocket~=0.9->selenium) (1.2.0)\n",
      "Requirement already satisfied: PySocks!=1.5.7,<2.0,>=1.5.6 in c:\\users\\dell\\anaconda3\\lib\\site-packages (from urllib3[socks]~=1.26->selenium) (1.7.1)\n",
      "Requirement already satisfied: pycparser in c:\\users\\dell\\anaconda3\\lib\\site-packages (from cffi>=1.14->trio~=0.17->selenium) (2.21)\n",
      "Requirement already satisfied: h11<1,>=0.9.0 in c:\\users\\dell\\anaconda3\\lib\\site-packages (from wsproto>=0.14->trio-websocket~=0.9->selenium) (0.14.0)\n"
     ]
    }
   ],
   "source": [
    "!pip install selenium"
   ]
  },
  {
   "cell_type": "code",
   "execution_count": 2,
   "id": "53614cef",
   "metadata": {},
   "outputs": [],
   "source": [
    "import selenium\n",
    "import pandas as pd\n",
    "from selenium import webdriver\n",
    "import warnings\n",
    "warnings.filterwarnings('ignore')\n",
    "from selenium.common.exceptions import StaleElementReferenceException, NoSuchElementException\n",
    "from selenium.webdriver.common.by import By\n",
    "import time\n",
    "import urllib"
   ]
  },
  {
   "cell_type": "code",
   "execution_count": 7,
   "id": "f8723009",
   "metadata": {},
   "outputs": [],
   "source": [
    "driver=webdriver.Chrome(r\"C:\\Users\\DELL\\Desktop\\chrome\\chromedriver.exe\")"
   ]
  },
  {
   "cell_type": "code",
   "execution_count": 8,
   "id": "f9868108",
   "metadata": {},
   "outputs": [],
   "source": [
    "driver.get(\"https://images.google.com/?gws_rd=ssl\")\n",
    "driver.maximize_window()"
   ]
  },
  {
   "cell_type": "code",
   "execution_count": 9,
   "id": "0593754c",
   "metadata": {},
   "outputs": [],
   "source": [
    "machine_learning=driver.find_element(By.XPATH,\"/html/body/div[1]/div[3]/form/div[1]/div[1]/div[1]/div/div[2]/textarea\")\n",
    "machine_learning.send_keys('machine learning')"
   ]
  },
  {
   "cell_type": "code",
   "execution_count": 10,
   "id": "b578560d",
   "metadata": {},
   "outputs": [],
   "source": [
    "search=driver.find_element(By.CLASS_NAME,\"zgAlFc\")\n",
    "search.click()"
   ]
  },
  {
   "cell_type": "code",
   "execution_count": 11,
   "id": "ca4231c5",
   "metadata": {},
   "outputs": [],
   "source": [
    "imageResult = []"
   ]
  },
  {
   "cell_type": "code",
   "execution_count": 12,
   "id": "dbe2577d",
   "metadata": {},
   "outputs": [],
   "source": [
    "imgResults = driver.find_elements(By.XPATH,'//img[@class=\"rg_i Q4LuWd\"]')"
   ]
  },
  {
   "cell_type": "code",
   "execution_count": 13,
   "id": "a78d9066",
   "metadata": {},
   "outputs": [
    {
     "name": "stdout",
     "output_type": "stream",
     "text": [
      "48\n"
     ]
    }
   ],
   "source": [
    "print(len(imgResults))"
   ]
  },
  {
   "cell_type": "code",
   "execution_count": 14,
   "id": "4def602b",
   "metadata": {},
   "outputs": [],
   "source": [
    "src = []\n",
    "for img in imgResults:\n",
    "    src.append(img.get_attribute('src'))"
   ]
  },
  {
   "cell_type": "code",
   "execution_count": 15,
   "id": "83349177",
   "metadata": {},
   "outputs": [],
   "source": [
    "for i in range(10):\n",
    "    urllib.request.urlretrieve(str(src[i]),r\"C:\\Users\\DELL\\Desktop\\image\\machine learning\\machine learning{}.jpg\".format(i))"
   ]
  },
  {
   "cell_type": "code",
   "execution_count": 16,
   "id": "3f9fd814",
   "metadata": {},
   "outputs": [
    {
     "data": {
      "text/plain": [
       "[<selenium.webdriver.remote.webelement.WebElement (session=\"b06c2e0d7cd0f7d72121d4099d531d91\", element=\"84191ab5-357d-4dd4-88e9-ac38ce5e0ec0\")>,\n",
       " <selenium.webdriver.remote.webelement.WebElement (session=\"b06c2e0d7cd0f7d72121d4099d531d91\", element=\"a28df689-767e-4f2b-9854-3eb52c3acd37\")>,\n",
       " <selenium.webdriver.remote.webelement.WebElement (session=\"b06c2e0d7cd0f7d72121d4099d531d91\", element=\"eb6906b9-fa22-4a4a-95ba-027b62d5c4ce\")>,\n",
       " <selenium.webdriver.remote.webelement.WebElement (session=\"b06c2e0d7cd0f7d72121d4099d531d91\", element=\"50b38996-e3d6-4512-93c3-13ba3cba808b\")>,\n",
       " <selenium.webdriver.remote.webelement.WebElement (session=\"b06c2e0d7cd0f7d72121d4099d531d91\", element=\"379459a6-8f06-48c2-a46c-30967b9d024d\")>,\n",
       " <selenium.webdriver.remote.webelement.WebElement (session=\"b06c2e0d7cd0f7d72121d4099d531d91\", element=\"bd18faba-5a89-4221-a8ba-61874ff0e86f\")>,\n",
       " <selenium.webdriver.remote.webelement.WebElement (session=\"b06c2e0d7cd0f7d72121d4099d531d91\", element=\"798ec22f-806c-4e2d-8a35-0fbe37ddd702\")>,\n",
       " <selenium.webdriver.remote.webelement.WebElement (session=\"b06c2e0d7cd0f7d72121d4099d531d91\", element=\"c3e5c3db-64eb-4603-b999-94d15dff99ee\")>,\n",
       " <selenium.webdriver.remote.webelement.WebElement (session=\"b06c2e0d7cd0f7d72121d4099d531d91\", element=\"c7b955d1-cef9-4104-a7fe-bd4fdeacd818\")>,\n",
       " <selenium.webdriver.remote.webelement.WebElement (session=\"b06c2e0d7cd0f7d72121d4099d531d91\", element=\"adca3d97-3576-4c42-9c4a-92476c1d5884\")>]"
      ]
     },
     "execution_count": 16,
     "metadata": {},
     "output_type": "execute_result"
    }
   ],
   "source": [
    "imgResults[0:10]"
   ]
  },
  {
   "cell_type": "code",
   "execution_count": null,
   "id": "c0e9cad7",
   "metadata": {},
   "outputs": [],
   "source": []
  }
 ],
 "metadata": {
  "kernelspec": {
   "display_name": "Python 3 (ipykernel)",
   "language": "python",
   "name": "python3"
  },
  "language_info": {
   "codemirror_mode": {
    "name": "ipython",
    "version": 3
   },
   "file_extension": ".py",
   "mimetype": "text/x-python",
   "name": "python",
   "nbconvert_exporter": "python",
   "pygments_lexer": "ipython3",
   "version": "3.10.9"
  }
 },
 "nbformat": 4,
 "nbformat_minor": 5
}
